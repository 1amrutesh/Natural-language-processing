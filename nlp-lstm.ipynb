{
 "cells": [
  {
   "cell_type": "code",
   "execution_count": null,
   "metadata": {
    "_cell_guid": "b1076dfc-b9ad-4769-8c92-a6c4dae69d19",
    "_uuid": "8f2839f25d086af736a60e9eeb907d3b93b6e0e5",
    "execution": {
     "iopub.execute_input": "2022-05-29T13:32:38.789851Z",
     "iopub.status.busy": "2022-05-29T13:32:38.789383Z",
     "iopub.status.idle": "2022-05-29T13:32:38.836433Z",
     "shell.execute_reply": "2022-05-29T13:32:38.835628Z",
     "shell.execute_reply.started": "2022-05-29T13:32:38.78977Z"
    }
   },
   "outputs": [],
   "source": [
    "# This Python 3 environment comes with many helpful analytics libraries installed\n",
    "# It is defined by the kaggle/python Docker image: https://github.com/kaggle/docker-python\n",
    "# For example, here's several helpful packages to load\n",
    "\n",
    "import numpy as np # linear algebra\n",
    "import pandas as pd # data processing, CSV file I/O (e.g. pd.read_csv)\n",
    "\n",
    "# Input data files are available in the read-only \"../input/\" directory\n",
    "# For example, running this (by clicking run or pressing Shift+Enter) will list all files under the input directory\n",
    "\n",
    "import os\n",
    "for dirname, _, filenames in os.walk('/kaggle/input'):\n",
    "    for filename in filenames:\n",
    "        print(os.path.join(dirname, filename))\n",
    "\n",
    "# You can write up to 20GB to the current directory (/kaggle/working/) that gets preserved as output when you create a version using \"Save & Run All\" \n",
    "# You can also write temporary files to /kaggle/temp/, but they won't be saved outside of the current session"
   ]
  },
  {
   "cell_type": "code",
   "execution_count": null,
   "metadata": {
    "execution": {
     "iopub.execute_input": "2022-05-29T13:32:38.838671Z",
     "iopub.status.busy": "2022-05-29T13:32:38.838372Z",
     "iopub.status.idle": "2022-05-29T13:32:51.727223Z",
     "shell.execute_reply": "2022-05-29T13:32:51.726471Z",
     "shell.execute_reply.started": "2022-05-29T13:32:38.838636Z"
    }
   },
   "outputs": [],
   "source": [
    "import os\n",
    "import numpy as np\n",
    "import pandas as pd\n",
    "import matplotlib.pyplot as plt\n",
    "import seaborn as sns\n",
    "import spacy\n",
    "\n",
    "from tensorflow.keras.models import Model\n",
    "from tensorflow.keras.optimizers import Adam, SGD\n",
    "from tensorflow.keras.preprocessing import text, sequence\n",
    "from tensorflow.keras.layers import Dense, Input, Bidirectional, Conv1D, GRU, LSTM,TimeDistributed, Flatten\n",
    "from tensorflow.keras.layers import Embedding, GlobalMaxPooling1D, GlobalAveragePooling1D, concatenate, SpatialDropout1D\n",
    "from tensorflow.keras import initializers, regularizers, constraints, optimizers, layers, callbacks\n",
    "from tensorflow.keras.callbacks import EarlyStopping, ModelCheckpoint,ReduceLROnPlateau\n",
    "from sklearn.model_selection import train_test_split\n",
    "from sklearn.metrics import accuracy_score, f1_score, confusion_matrix, classification_report\n",
    "from tensorflow.keras.utils import plot_model\n",
    "from tqdm.auto import tqdm"
   ]
  },
  {
   "cell_type": "code",
   "execution_count": null,
   "metadata": {
    "execution": {
     "iopub.execute_input": "2022-05-29T13:32:51.728789Z",
     "iopub.status.busy": "2022-05-29T13:32:51.728539Z",
     "iopub.status.idle": "2022-05-29T13:32:55.02423Z",
     "shell.execute_reply": "2022-05-29T13:32:55.023505Z",
     "shell.execute_reply.started": "2022-05-29T13:32:51.728757Z"
    }
   },
   "outputs": [],
   "source": [
    "train = pd.read_csv('../input/jigsaw-toxic-comment-classification-challenge/train.csv')\n",
    "\n",
    "# Testing data\n",
    "test_labels = pd.read_csv(\"../input/jigsaw-toxic-comment-classification-challenge/test_labels.csv\")\n",
    "test = pd.read_csv('../input/jigsaw-toxic-comment-classification-challenge/test.csv')\n",
    "test = test.merge(test_labels, on=\"id\")\n",
    "\n",
    "# Label column names\n",
    "labels = list(train.columns[2:])\n",
    "\n",
    "# GloVe embedding\n",
    "glove_file = '../input/glove840b300dtxt/glove.840B.300d.txt'\n",
    "\n",
    "# Make output directory\n",
    "out_dir = \"outputs\"\n",
    "os.makedirs(out_dir, exist_ok=True)"
   ]
  },
  {
   "cell_type": "code",
   "execution_count": null,
   "metadata": {
    "execution": {
     "iopub.execute_input": "2022-05-29T13:32:55.028601Z",
     "iopub.status.busy": "2022-05-29T13:32:55.027995Z",
     "iopub.status.idle": "2022-05-29T13:32:55.093192Z",
     "shell.execute_reply": "2022-05-29T13:32:55.092466Z",
     "shell.execute_reply.started": "2022-05-29T13:32:55.028564Z"
    }
   },
   "outputs": [],
   "source": [
    "# Drop all rows with -1 in label values\n",
    "drop_idxs = test[\n",
    "    (test.toxic == -1) | (test.severe_toxic == -1) | (test.obscene == -1) | \n",
    "    (test.threat == -1) | (test.insult == -1) | (test.identity_hate == -1)\n",
    "].index\n",
    "test = test.drop(drop_idxs, axis=\"rows\")"
   ]
  },
  {
   "cell_type": "code",
   "execution_count": null,
   "metadata": {
    "execution": {
     "iopub.execute_input": "2022-05-29T13:32:55.095228Z",
     "iopub.status.busy": "2022-05-29T13:32:55.094976Z",
     "iopub.status.idle": "2022-05-29T13:32:55.371837Z",
     "shell.execute_reply": "2022-05-29T13:32:55.371127Z",
     "shell.execute_reply.started": "2022-05-29T13:32:55.095194Z"
    }
   },
   "outputs": [],
   "source": [
    "# Features\n",
    "X_train = train[\"comment_text\"].str.lower()\n",
    "X_test = test[\"comment_text\"].str.lower()\n",
    "\n",
    "# Labels\n",
    "y_train = train[labels].values\n",
    "y_test = test[labels].values\n",
    "\n",
    "# Training data\n",
    "print(f\"X_train.shape = {X_train.shape}\")\n",
    "print(f\"y_train.shape = {y_train.shape}\")\n",
    "# Testing data\n",
    "print(f\"X_test.shape = {X_test.shape}\")\n",
    "print(f\"y_test.shape = {y_test.shape}\")"
   ]
  },
  {
   "cell_type": "code",
   "execution_count": null,
   "metadata": {
    "execution": {
     "iopub.execute_input": "2022-05-29T13:32:55.373377Z",
     "iopub.status.busy": "2022-05-29T13:32:55.373139Z",
     "iopub.status.idle": "2022-05-29T13:32:58.72394Z",
     "shell.execute_reply": "2022-05-29T13:32:58.723253Z",
     "shell.execute_reply.started": "2022-05-29T13:32:55.373344Z"
    }
   },
   "outputs": [],
   "source": [
    "fig, axes = plt.subplots(ncols=3, nrows=2, figsize=(16, 6))\n",
    "for col, ax in zip(labels, axes.flatten()):\n",
    "    ax.hist(train[col], label=\"train\")\n",
    "    ax.hist(test[col], label=\"test\")\n",
    "    ax.set_title(f\"{col}\")\n",
    "    ax.set_yscale(\"log\")\n",
    "    ax.legend()\n",
    "plt.tight_layout()\n",
    "plt.savefig(f\"{out_dir}/class-label-distribution.jpg\", dpi=300)\n",
    "plt.show()"
   ]
  },
  {
   "cell_type": "code",
   "execution_count": null,
   "metadata": {
    "execution": {
     "iopub.execute_input": "2022-05-29T13:32:58.725683Z",
     "iopub.status.busy": "2022-05-29T13:32:58.725266Z",
     "iopub.status.idle": "2022-05-29T13:33:27.324803Z",
     "shell.execute_reply": "2022-05-29T13:33:27.324044Z",
     "shell.execute_reply.started": "2022-05-29T13:32:58.725646Z"
    }
   },
   "outputs": [],
   "source": [
    "max_features = 150000\n",
    "maxlen = 200\n",
    "embed_size = 300\n",
    "\n",
    "tok = text.Tokenizer(num_words=max_features, lower=True)\n",
    "tok.fit_on_texts(list(X_train)+list(X_test))\n",
    "X_train = tok.texts_to_sequences(X_train)\n",
    "X_test = tok.texts_to_sequences(X_test)\n",
    "x_train = sequence.pad_sequences(X_train, maxlen=maxlen)\n",
    "x_test = sequence.pad_sequences(X_test, maxlen=maxlen)"
   ]
  },
  {
   "cell_type": "code",
   "execution_count": null,
   "metadata": {
    "execution": {
     "iopub.execute_input": "2022-05-29T13:33:27.330823Z",
     "iopub.status.busy": "2022-05-29T13:33:27.328933Z",
     "iopub.status.idle": "2022-05-29T13:36:37.129408Z",
     "shell.execute_reply": "2022-05-29T13:36:37.128669Z",
     "shell.execute_reply.started": "2022-05-29T13:33:27.329277Z"
    }
   },
   "outputs": [],
   "source": [
    "embeddings_index = {}\n",
    "with open(glove_file, encoding='utf8') as f:\n",
    "    for line in tqdm(f):\n",
    "        values = line.rstrip().rsplit(' ')\n",
    "        word = values[0]\n",
    "        coefs = np.asarray(values[1:], dtype='float32')\n",
    "        embeddings_index[word] = coefs"
   ]
  },
  {
   "cell_type": "code",
   "execution_count": null,
   "metadata": {
    "execution": {
     "iopub.execute_input": "2022-05-29T13:36:37.131279Z",
     "iopub.status.busy": "2022-05-29T13:36:37.130597Z",
     "iopub.status.idle": "2022-05-29T13:37:10.194793Z",
     "shell.execute_reply": "2022-05-29T13:37:10.19393Z",
     "shell.execute_reply.started": "2022-05-29T13:36:37.131237Z"
    }
   },
   "outputs": [],
   "source": [
    "!python -m spacy download en_core_web_sm"
   ]
  },
  {
   "cell_type": "code",
   "execution_count": null,
   "metadata": {
    "execution": {
     "iopub.execute_input": "2022-05-29T13:37:10.198789Z",
     "iopub.status.busy": "2022-05-29T13:37:10.198557Z",
     "iopub.status.idle": "2022-05-29T13:39:41.475934Z",
     "shell.execute_reply": "2022-05-29T13:39:41.475252Z",
     "shell.execute_reply.started": "2022-05-29T13:37:10.198764Z"
    }
   },
   "outputs": [],
   "source": [
    "# nlp = spacy.load('en'); # Depricated\n",
    "import en_core_web_sm\n",
    "nlp = en_core_web_sm.load()\n",
    "\n",
    "word_index = tok.word_index\n",
    "\n",
    "num_words = min(max_features, len(word_index) + 1)\n",
    "embedding_matrix = np.random.randn(num_words, embed_size)/4\n",
    "kk = 0\n",
    "moo = 0\n",
    "for word, i in tqdm(word_index.items()): \n",
    "    if i >= max_features:\n",
    "        continue\n",
    "    embedding_vector = embeddings_index.get(word)\n",
    "    if embedding_vector is not None:\n",
    "        # words not found in embedding index will be all-zeros.\n",
    "        embedding_matrix[i] = embedding_vector\n",
    "        kk += 1\n",
    "    else: \n",
    "        for x in nlp(word,disable=['parser', 'ner']):\n",
    "            embedding_vector = embeddings_index.get(x.lemma_)\n",
    "            if embedding_vector is not None: \n",
    "                embedding_matrix[i] = embedding_vector \n",
    "                kk += 1\n",
    "                break"
   ]
  },
  {
   "cell_type": "code",
   "execution_count": null,
   "metadata": {
    "execution": {
     "iopub.execute_input": "2022-05-29T13:39:41.481589Z",
     "iopub.status.busy": "2022-05-29T13:39:41.479728Z",
     "iopub.status.idle": "2022-05-29T13:39:52.488485Z",
     "shell.execute_reply": "2022-05-29T13:39:52.487582Z",
     "shell.execute_reply.started": "2022-05-29T13:39:41.481548Z"
    }
   },
   "outputs": [],
   "source": [
    "# main model\n",
    "model_input = Input(shape=(maxlen,))\n",
    "model = Embedding(max_features, embed_size, weights=[embedding_matrix], trainable=False)(model_input)\n",
    "model =  Bidirectional (LSTM (256,return_sequences=True,dropout=0.25),merge_mode='concat')(model)\n",
    "model =  Bidirectional (LSTM (128,return_sequences=True,dropout=0.25),merge_mode='concat')(model)\n",
    "avg_pool = GlobalAveragePooling1D()(model)\n",
    "max_pool = GlobalMaxPooling1D()(model)\n",
    "model = concatenate([avg_pool, max_pool]) \n",
    "model = Dense(100,activation='relu')(model)\n",
    "preds = Dense(6,activation='sigmoid')(model)\n",
    "model = Model(model_input,preds,name=\"project_model\")\n"
   ]
  },
  {
   "cell_type": "code",
   "execution_count": null,
   "metadata": {
    "execution": {
     "iopub.execute_input": "2022-05-29T13:39:52.493034Z",
     "iopub.status.busy": "2022-05-29T13:39:52.492759Z",
     "iopub.status.idle": "2022-05-29T13:39:52.501784Z",
     "shell.execute_reply": "2022-05-29T13:39:52.499879Z",
     "shell.execute_reply.started": "2022-05-29T13:39:52.493Z"
    }
   },
   "outputs": [],
   "source": [
    "es = EarlyStopping(monitor='accuracy', patience = 2, restore_best_weights=True)"
   ]
  },
  {
   "cell_type": "code",
   "execution_count": null,
   "metadata": {
    "execution": {
     "iopub.execute_input": "2022-05-29T13:39:52.504074Z",
     "iopub.status.busy": "2022-05-29T13:39:52.503263Z",
     "iopub.status.idle": "2022-05-29T13:39:52.509155Z",
     "shell.execute_reply": "2022-05-29T13:39:52.508265Z",
     "shell.execute_reply.started": "2022-05-29T13:39:52.504035Z"
    }
   },
   "outputs": [],
   "source": [
    "lr_anneal = ReduceLROnPlateau(monitor = 'accuracy', patience=2, factor=0.2, min_lr=1e-7,restore_best_weights=True)"
   ]
  },
  {
   "cell_type": "code",
   "execution_count": null,
   "metadata": {
    "execution": {
     "iopub.execute_input": "2022-05-29T13:39:52.511508Z",
     "iopub.status.busy": "2022-05-29T13:39:52.51064Z",
     "iopub.status.idle": "2022-05-29T13:39:52.530835Z",
     "shell.execute_reply": "2022-05-29T13:39:52.530191Z",
     "shell.execute_reply.started": "2022-05-29T13:39:52.511433Z"
    }
   },
   "outputs": [],
   "source": [
    "model.summary()"
   ]
  },
  {
   "cell_type": "code",
   "execution_count": null,
   "metadata": {
    "execution": {
     "iopub.execute_input": "2022-05-29T13:39:52.533849Z",
     "iopub.status.busy": "2022-05-29T13:39:52.53314Z",
     "iopub.status.idle": "2022-05-29T13:39:53.850983Z",
     "shell.execute_reply": "2022-05-29T13:39:53.85018Z",
     "shell.execute_reply.started": "2022-05-29T13:39:52.533813Z"
    }
   },
   "outputs": [],
   "source": [
    "plot_model(model)\n"
   ]
  },
  {
   "cell_type": "code",
   "execution_count": null,
   "metadata": {
    "execution": {
     "iopub.execute_input": "2022-05-29T13:39:53.853191Z",
     "iopub.status.busy": "2022-05-29T13:39:53.852907Z",
     "iopub.status.idle": "2022-05-29T13:49:17.6388Z",
     "shell.execute_reply": "2022-05-29T13:49:17.637968Z",
     "shell.execute_reply.started": "2022-05-29T13:39:53.853154Z"
    }
   },
   "outputs": [],
   "source": [
    "batch_size = 128\n",
    "epochs = 20\n",
    "model.compile(loss='binary_crossentropy',optimizer=Adam(lr=2e-4),metrics=['accuracy'])\n",
    "history = model.fit(x_train, y_train, batch_size=batch_size, epochs=epochs, verbose=1,callbacks = [lr_anneal,es])"
   ]
  },
  {
   "cell_type": "code",
   "execution_count": null,
   "metadata": {
    "execution": {
     "iopub.execute_input": "2022-05-29T13:49:17.640596Z",
     "iopub.status.busy": "2022-05-29T13:49:17.640319Z",
     "iopub.status.idle": "2022-05-29T13:49:21.28868Z",
     "shell.execute_reply": "2022-05-29T13:49:21.287946Z",
     "shell.execute_reply.started": "2022-05-29T13:49:17.64056Z"
    }
   },
   "outputs": [],
   "source": [
    "fig, ax = plt.subplots(ncols=2, figsize=(12, 6))\n",
    "\n",
    "# summarize history for accuracy\n",
    "ax[0].plot(history.history['accuracy'])\n",
    "ax[0].set_title('project model accuracy')\n",
    "ax[0].set_ylabel('accuracy')\n",
    "ax[0].set_xlabel('epoch')\n",
    "ax[0].set_xticks(np.arange(0, epochs))\n",
    "# summarize history for loss\n",
    "ax[1].plot(history.history['loss'])\n",
    "ax[1].set_title('project model loss')\n",
    "ax[1].set_ylabel('loss')\n",
    "ax[1].set_xlabel('epoch')\n",
    "ax[1].set_xticks(np.arange(0, epochs))\n",
    "plt.savefig(f\"{out_dir}/project-model-training.jpg\", dpi=300)\n",
    "plt.show()"
   ]
  },
  {
   "cell_type": "code",
   "execution_count": null,
   "metadata": {},
   "outputs": [],
   "source": []
  },
  {
   "cell_type": "code",
   "execution_count": null,
   "metadata": {
    "execution": {
     "iopub.execute_input": "2022-05-29T13:49:21.290402Z",
     "iopub.status.busy": "2022-05-29T13:49:21.289991Z",
     "iopub.status.idle": "2022-05-29T13:49:42.792029Z",
     "shell.execute_reply": "2022-05-29T13:49:42.791157Z",
     "shell.execute_reply.started": "2022-05-29T13:49:21.290363Z"
    }
   },
   "outputs": [],
   "source": [
    "y_pred = model.predict(x_test, batch_size=1024, verbose=1)"
   ]
  },
  {
   "cell_type": "code",
   "execution_count": null,
   "metadata": {
    "execution": {
     "iopub.execute_input": "2022-05-29T13:49:42.793872Z",
     "iopub.status.busy": "2022-05-29T13:49:42.793591Z",
     "iopub.status.idle": "2022-05-29T13:49:44.533462Z",
     "shell.execute_reply": "2022-05-29T13:49:44.532756Z",
     "shell.execute_reply.started": "2022-05-29T13:49:42.793836Z"
    }
   },
   "outputs": [],
   "source": [
    "tests = pd.DataFrame(y_test, columns=labels)\n",
    "preds = pd.DataFrame(y_pred, columns=labels).round() # We have to round the probabilities (0-1 inclusive) to binary (0 or 1)\n",
    "\n",
    "acc_dict_proj = {}\n",
    "f1s_dict_proj = {}\n",
    "fig, axes = plt.subplots(ncols=3, nrows=2, figsize=(12, 6))\n",
    "for col, ax in zip(labels, axes.flatten()):\n",
    "    true_label = tests[col]\n",
    "    prediction = preds[col]\n",
    "    # Record accuracy and F1 score\n",
    "    acc = acc_dict_proj[col] = accuracy_score(true_label, prediction)\n",
    "    f1 = f1s_dict_proj[col] = f1_score(true_label, prediction)\n",
    "    # Confusion matrix\n",
    "    (tn, fp), (fn, tp) = conf_matt = confusion_matrix(true_label, prediction)\n",
    "    sns.heatmap(conf_matt, annot=True, cbar=False, fmt=\".2f\", ax=ax)\n",
    "    ax.set_title(f\"{col}\\naccuracy: {acc:.3f}\\nF1-score: {f1:.3f}\")\n",
    "    ax.set_xlabel(\"Prediction\")\n",
    "    ax.set_ylabel(\"True\")\n",
    "plt.tight_layout()\n",
    "plt.savefig(f\"{out_dir}/project-model-confusion-matrix.jpg\", dpi=300)\n",
    "plt.show()"
   ]
  },
  {
   "cell_type": "code",
   "execution_count": null,
   "metadata": {
    "execution": {
     "iopub.execute_input": "2022-05-29T13:49:44.535177Z",
     "iopub.status.busy": "2022-05-29T13:49:44.534728Z",
     "iopub.status.idle": "2022-05-29T13:49:44.542032Z",
     "shell.execute_reply": "2022-05-29T13:49:44.541021Z",
     "shell.execute_reply.started": "2022-05-29T13:49:44.535137Z"
    }
   },
   "outputs": [],
   "source": [
    "# initialize evaluation metric comparison dataframe\n",
    "eval_df = pd.DataFrame(\n",
    "    index=[\"paper_model\",\"project_model\"],\n",
    "    columns=[\"acc_mean\", \"acc_sd\", \"f1_mean\", \"f1_sd\"]\n",
    ")"
   ]
  },
  {
   "cell_type": "code",
   "execution_count": null,
   "metadata": {
    "execution": {
     "iopub.execute_input": "2022-05-29T13:49:44.543978Z",
     "iopub.status.busy": "2022-05-29T13:49:44.543528Z",
     "iopub.status.idle": "2022-05-29T13:49:44.556235Z",
     "shell.execute_reply": "2022-05-29T13:49:44.555014Z",
     "shell.execute_reply.started": "2022-05-29T13:49:44.543939Z"
    }
   },
   "outputs": [],
   "source": [
    "accuracies_proj = list(acc_dict_proj.values())\n",
    "mu = eval_df[\"acc_mean\"][\"project_model\"] = np.mean(accuracies_proj)\n",
    "sd = eval_df[\"acc_sd\"][\"project_model\"] = np.std(accuracies_proj)\n",
    "print(f\"Avg accuracy: {mu:.3f} ± {sd:.3f}\")\n",
    "\n",
    "# f1-score\n",
    "f1_scores_proj = list(f1s_dict_proj.values())\n",
    "mu = eval_df[\"f1_mean\"][\"project_model\"] = np.mean(f1_scores_proj)\n",
    "sd = eval_df[\"f1_sd\"][\"project_model\"] = np.std(f1_scores_proj)\n",
    "print(f\"Avg F1-score: {mu:.3f} ± {sd:.3f}\")"
   ]
  },
  {
   "cell_type": "code",
   "execution_count": null,
   "metadata": {},
   "outputs": [],
   "source": []
  }
 ],
 "metadata": {
  "kernelspec": {
   "display_name": "Python 3 (ipykernel)",
   "language": "python",
   "name": "python3"
  },
  "language_info": {
   "codemirror_mode": {
    "name": "ipython",
    "version": 3
   },
   "file_extension": ".py",
   "mimetype": "text/x-python",
   "name": "python",
   "nbconvert_exporter": "python",
   "pygments_lexer": "ipython3",
   "version": "3.8.13"
  },
  "latex_envs": {
   "LaTeX_envs_menu_present": true,
   "autoclose": false,
   "autocomplete": true,
   "bibliofile": "biblio.bib",
   "cite_by": "apalike",
   "current_citInitial": 1,
   "eqLabelWithNumbers": true,
   "eqNumInitial": 1,
   "hotkeys": {
    "equation": "Ctrl-E",
    "itemize": "Ctrl-I"
   },
   "labels_anchors": false,
   "latex_user_defs": false,
   "report_style_numbering": false,
   "user_envs_cfg": false
  },
  "toc": {
   "base_numbering": 1,
   "nav_menu": {},
   "number_sections": true,
   "sideBar": true,
   "skip_h1_title": false,
   "title_cell": "Table of Contents",
   "title_sidebar": "Contents",
   "toc_cell": false,
   "toc_position": {},
   "toc_section_display": true,
   "toc_window_display": false
  },
  "varInspector": {
   "cols": {
    "lenName": 16,
    "lenType": 16,
    "lenVar": 40
   },
   "kernels_config": {
    "python": {
     "delete_cmd_postfix": "",
     "delete_cmd_prefix": "del ",
     "library": "var_list.py",
     "varRefreshCmd": "print(var_dic_list())"
    },
    "r": {
     "delete_cmd_postfix": ") ",
     "delete_cmd_prefix": "rm(",
     "library": "var_list.r",
     "varRefreshCmd": "cat(var_dic_list()) "
    }
   },
   "types_to_exclude": [
    "module",
    "function",
    "builtin_function_or_method",
    "instance",
    "_Feature"
   ],
   "window_display": false
  }
 },
 "nbformat": 4,
 "nbformat_minor": 4
}
